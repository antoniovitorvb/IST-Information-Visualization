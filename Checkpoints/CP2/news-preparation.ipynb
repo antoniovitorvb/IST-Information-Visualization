{
 "cells": [
  {
   "cell_type": "code",
   "execution_count": 29,
   "id": "initial_id",
   "metadata": {
    "collapsed": true,
    "ExecuteTime": {
     "end_time": "2023-09-25T21:37:34.543268900Z",
     "start_time": "2023-09-25T21:37:34.528861300Z"
    }
   },
   "outputs": [],
   "source": [
    "import numpy as np\n",
    "import pandas as pd"
   ]
  },
  {
   "cell_type": "code",
   "execution_count": 30,
   "outputs": [],
   "source": [
    "FOLDER_PATH = \"data/news\"\n",
    "PREPARED_PATH = \"data/news/news-prepared.csv\""
   ],
   "metadata": {
    "collapsed": false,
    "ExecuteTime": {
     "end_time": "2023-09-25T21:37:34.556235700Z",
     "start_time": "2023-09-25T21:37:34.532788Z"
    }
   },
   "id": "9a5cdb5a0dc1fa71"
  },
  {
   "cell_type": "markdown",
   "source": [
    "## Merge all the economic historical data"
   ],
   "metadata": {
    "collapsed": false
   },
   "id": "29fdb5a396d123cd"
  },
  {
   "cell_type": "code",
   "execution_count": 31,
   "outputs": [
    {
     "data": {
      "text/plain": "                                         Id                Start  \\\n0      289f7bf0-e07a-4ae5-be3e-c3099d7d57b0  01/01/2016 00:00:00   \n1      daeff945-2698-4642-82f8-526cd0b207e1  01/01/2016 00:00:00   \n2      2993d360-8098-4546-b4ae-9b00ece19b18  01/01/2016 00:00:00   \n3      9d4798a3-6d3c-4d31-97e6-9d36f687d3dd  01/01/2016 00:00:00   \n4      bef65bb6-a0e2-4a9e-acd1-4df4a059886e  01/01/2016 00:00:00   \n...                                     ...                  ...   \n58467  400e0725-0d51-4d21-9b96-704dea571ece  12/31/2022 23:00:00   \n58468  4d3300ad-c168-4a5f-a4ac-a60a338e63c4  01/01/2023 05:00:00   \n58469  f23eb4cc-8fbb-45de-a9aa-d9709cb4e666  01/01/2023 05:00:00   \n58470  d4c0451d-05bc-4ad8-a63c-3ce873acee62  01/01/2023 12:00:00   \n58471  12ddc830-9d0e-4e16-a8bf-036721b565db  01/01/2023 23:00:00   \n\n                            Name Impact Currency  \n0                 New Year's Day   NONE      USD  \n1                New Year's Day    NONE      NZD  \n2                 New Year's Day   NONE      JPY  \n3                 New Year's Day   NONE      EUR  \n4                 New Year's Day   NONE      EUR  \n...                          ...    ...      ...  \n58467             New Year's Day   NONE      EUR  \n58468             New Year's Day   NONE      USD  \n58469             New Year's Day   NONE      CAD  \n58470  Day after New Year's Day    NONE      NZD  \n58471  New Year's Day (Observed)   NONE      EUR  \n\n[58413 rows x 5 columns]",
      "text/html": "<div>\n<style scoped>\n    .dataframe tbody tr th:only-of-type {\n        vertical-align: middle;\n    }\n\n    .dataframe tbody tr th {\n        vertical-align: top;\n    }\n\n    .dataframe thead th {\n        text-align: right;\n    }\n</style>\n<table border=\"1\" class=\"dataframe\">\n  <thead>\n    <tr style=\"text-align: right;\">\n      <th></th>\n      <th>Id</th>\n      <th>Start</th>\n      <th>Name</th>\n      <th>Impact</th>\n      <th>Currency</th>\n    </tr>\n  </thead>\n  <tbody>\n    <tr>\n      <th>0</th>\n      <td>289f7bf0-e07a-4ae5-be3e-c3099d7d57b0</td>\n      <td>01/01/2016 00:00:00</td>\n      <td>New Year's Day</td>\n      <td>NONE</td>\n      <td>USD</td>\n    </tr>\n    <tr>\n      <th>1</th>\n      <td>daeff945-2698-4642-82f8-526cd0b207e1</td>\n      <td>01/01/2016 00:00:00</td>\n      <td>New Year's Day</td>\n      <td>NONE</td>\n      <td>NZD</td>\n    </tr>\n    <tr>\n      <th>2</th>\n      <td>2993d360-8098-4546-b4ae-9b00ece19b18</td>\n      <td>01/01/2016 00:00:00</td>\n      <td>New Year's Day</td>\n      <td>NONE</td>\n      <td>JPY</td>\n    </tr>\n    <tr>\n      <th>3</th>\n      <td>9d4798a3-6d3c-4d31-97e6-9d36f687d3dd</td>\n      <td>01/01/2016 00:00:00</td>\n      <td>New Year's Day</td>\n      <td>NONE</td>\n      <td>EUR</td>\n    </tr>\n    <tr>\n      <th>4</th>\n      <td>bef65bb6-a0e2-4a9e-acd1-4df4a059886e</td>\n      <td>01/01/2016 00:00:00</td>\n      <td>New Year's Day</td>\n      <td>NONE</td>\n      <td>EUR</td>\n    </tr>\n    <tr>\n      <th>...</th>\n      <td>...</td>\n      <td>...</td>\n      <td>...</td>\n      <td>...</td>\n      <td>...</td>\n    </tr>\n    <tr>\n      <th>58467</th>\n      <td>400e0725-0d51-4d21-9b96-704dea571ece</td>\n      <td>12/31/2022 23:00:00</td>\n      <td>New Year's Day</td>\n      <td>NONE</td>\n      <td>EUR</td>\n    </tr>\n    <tr>\n      <th>58468</th>\n      <td>4d3300ad-c168-4a5f-a4ac-a60a338e63c4</td>\n      <td>01/01/2023 05:00:00</td>\n      <td>New Year's Day</td>\n      <td>NONE</td>\n      <td>USD</td>\n    </tr>\n    <tr>\n      <th>58469</th>\n      <td>f23eb4cc-8fbb-45de-a9aa-d9709cb4e666</td>\n      <td>01/01/2023 05:00:00</td>\n      <td>New Year's Day</td>\n      <td>NONE</td>\n      <td>CAD</td>\n    </tr>\n    <tr>\n      <th>58470</th>\n      <td>d4c0451d-05bc-4ad8-a63c-3ce873acee62</td>\n      <td>01/01/2023 12:00:00</td>\n      <td>Day after New Year's Day</td>\n      <td>NONE</td>\n      <td>NZD</td>\n    </tr>\n    <tr>\n      <th>58471</th>\n      <td>12ddc830-9d0e-4e16-a8bf-036721b565db</td>\n      <td>01/01/2023 23:00:00</td>\n      <td>New Year's Day (Observed)</td>\n      <td>NONE</td>\n      <td>EUR</td>\n    </tr>\n  </tbody>\n</table>\n<p>58413 rows × 5 columns</p>\n</div>"
     },
     "execution_count": 31,
     "metadata": {},
     "output_type": "execute_result"
    }
   ],
   "source": [
    "def merge_economic_data(start_year, end_year, folder):\n",
    "    dataframes = []\n",
    "    for year in range(start_year, end_year + 1):\n",
    "        filename = f\"{folder}/{year}.csv\"\n",
    "        df = pd.read_csv(filename)\n",
    "        dataframes.append(df)\n",
    "    merged_df = pd.concat(dataframes, ignore_index=True)\n",
    "    merged_df = merged_df.drop_duplicates(subset='Id')\n",
    "    return merged_df\n",
    "\n",
    "data = merge_economic_data(2016, 2022, FOLDER_PATH)\n",
    "data"
   ],
   "metadata": {
    "collapsed": false,
    "ExecuteTime": {
     "end_time": "2023-09-25T21:37:34.691238100Z",
     "start_time": "2023-09-25T21:37:34.538282300Z"
    }
   },
   "id": "28f3c6f4b91098ec"
  },
  {
   "cell_type": "markdown",
   "source": [
    "## Missing values"
   ],
   "metadata": {
    "collapsed": false
   },
   "id": "daa2d0db41d7aba7"
  },
  {
   "cell_type": "code",
   "execution_count": 32,
   "outputs": [
    {
     "data": {
      "text/plain": "Id          0\nStart       0\nName        0\nImpact      0\nCurrency    0\ndtype: int64"
     },
     "execution_count": 32,
     "metadata": {},
     "output_type": "execute_result"
    }
   ],
   "source": [
    "def check_missing_values(df):\n",
    "    return df.isnull().sum()\n",
    "\n",
    "check_missing_values(data)"
   ],
   "metadata": {
    "collapsed": false,
    "ExecuteTime": {
     "end_time": "2023-09-25T21:37:34.750801600Z",
     "start_time": "2023-09-25T21:37:34.688247500Z"
    }
   },
   "id": "20d5ad8ed7fca9a0"
  },
  {
   "cell_type": "markdown",
   "source": [
    "## Export the prepared dataset"
   ],
   "metadata": {
    "collapsed": false
   },
   "id": "ab8f708f4d1ba28a"
  },
  {
   "cell_type": "code",
   "execution_count": 33,
   "outputs": [],
   "source": [
    "data.to_csv(PREPARED_PATH, index=False)"
   ],
   "metadata": {
    "collapsed": false,
    "ExecuteTime": {
     "end_time": "2023-09-25T21:37:34.897048200Z",
     "start_time": "2023-09-25T21:37:34.724871300Z"
    }
   },
   "id": "537916568b36d5a5"
  }
 ],
 "metadata": {
  "kernelspec": {
   "display_name": "Python 3",
   "language": "python",
   "name": "python3"
  },
  "language_info": {
   "codemirror_mode": {
    "name": "ipython",
    "version": 2
   },
   "file_extension": ".py",
   "mimetype": "text/x-python",
   "name": "python",
   "nbconvert_exporter": "python",
   "pygments_lexer": "ipython2",
   "version": "2.7.6"
  }
 },
 "nbformat": 4,
 "nbformat_minor": 5
}
