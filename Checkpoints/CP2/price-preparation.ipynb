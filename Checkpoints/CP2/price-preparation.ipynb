{
 "cells": [
  {
   "cell_type": "code",
   "execution_count": 95,
   "id": "initial_id",
   "metadata": {
    "collapsed": true,
    "ExecuteTime": {
     "end_time": "2023-09-25T21:07:23.318557400Z",
     "start_time": "2023-09-25T21:07:23.267596400Z"
    }
   },
   "outputs": [],
   "source": [
    "import numpy as np\n",
    "import pandas as pd"
   ]
  },
  {
   "cell_type": "markdown",
   "source": [
    "## Select the data to be prepared"
   ],
   "metadata": {
    "collapsed": false
   },
   "id": "a05916a1583d74d2"
  },
  {
   "cell_type": "code",
   "execution_count": 96,
   "outputs": [],
   "source": [
    "ASSET = \"AUDUSD\"\n",
    "#ASSET = \"EURUSD\"\n",
    "#ASSET = \"GBPUSD\"\n",
    "#ASSET = \"NZDUSD\"\n",
    "#ASSET = \"USDCAD\"\n",
    "#ASSET = \"USDCHF\"\n",
    "#ASSET = \"USDJPY\"\n",
    "\n",
    "DATA_PATH = f\"data/price/{ASSET}.csv\"\n",
    "PREPARED_PATH = f\"data/price/{ASSET}-prepared.csv\"\n"
   ],
   "metadata": {
    "collapsed": false,
    "ExecuteTime": {
     "end_time": "2023-09-25T21:07:23.319583200Z",
     "start_time": "2023-09-25T21:07:23.273169200Z"
    }
   },
   "id": "db43cf3c014043e8"
  },
  {
   "cell_type": "markdown",
   "source": [
    "## Load the data"
   ],
   "metadata": {
    "collapsed": false
   },
   "id": "6206f97d6ac8f89c"
  },
  {
   "cell_type": "code",
   "execution_count": 97,
   "outputs": [
    {
     "data": {
      "text/plain": "                      Gmt time     Open     High      Low    Close  \\\n0      03.01.2016 22:00:00.000  120.188  120.319  120.183  120.283   \n1      03.01.2016 23:00:00.000  120.286  120.385  120.232  120.316   \n2      04.01.2016 00:00:00.000  120.315  120.390  120.269  120.371   \n3      04.01.2016 01:00:00.000  120.370  120.464  120.009  120.028   \n4      04.01.2016 02:00:00.000  120.027  120.043  119.646  119.817   \n...                        ...      ...      ...      ...      ...   \n43643  30.12.2022 19:00:00.000  130.868  131.020  130.848  130.971   \n43644  30.12.2022 20:00:00.000  130.969  131.291  130.969  131.269   \n43645  30.12.2022 21:00:00.000  131.269  131.269  131.046  131.072   \n43646  01.01.2023 22:00:00.000  130.925  130.962  130.743  130.759   \n43647  01.01.2023 23:00:00.000  130.771  130.886  130.716  130.870   \n\n             Volume  \n0      1.766420e+06  \n1      2.787850e+06  \n2      4.205490e+06  \n3      6.674790e+06  \n4      8.200750e+06  \n...             ...  \n43643  2.569386e+07  \n43644  9.933500e+06  \n43645  7.899270e+06  \n43646  1.011000e+05  \n43647  3.198000e+05  \n\n[43648 rows x 6 columns]",
      "text/html": "<div>\n<style scoped>\n    .dataframe tbody tr th:only-of-type {\n        vertical-align: middle;\n    }\n\n    .dataframe tbody tr th {\n        vertical-align: top;\n    }\n\n    .dataframe thead th {\n        text-align: right;\n    }\n</style>\n<table border=\"1\" class=\"dataframe\">\n  <thead>\n    <tr style=\"text-align: right;\">\n      <th></th>\n      <th>Gmt time</th>\n      <th>Open</th>\n      <th>High</th>\n      <th>Low</th>\n      <th>Close</th>\n      <th>Volume</th>\n    </tr>\n  </thead>\n  <tbody>\n    <tr>\n      <th>0</th>\n      <td>03.01.2016 22:00:00.000</td>\n      <td>120.188</td>\n      <td>120.319</td>\n      <td>120.183</td>\n      <td>120.283</td>\n      <td>1.766420e+06</td>\n    </tr>\n    <tr>\n      <th>1</th>\n      <td>03.01.2016 23:00:00.000</td>\n      <td>120.286</td>\n      <td>120.385</td>\n      <td>120.232</td>\n      <td>120.316</td>\n      <td>2.787850e+06</td>\n    </tr>\n    <tr>\n      <th>2</th>\n      <td>04.01.2016 00:00:00.000</td>\n      <td>120.315</td>\n      <td>120.390</td>\n      <td>120.269</td>\n      <td>120.371</td>\n      <td>4.205490e+06</td>\n    </tr>\n    <tr>\n      <th>3</th>\n      <td>04.01.2016 01:00:00.000</td>\n      <td>120.370</td>\n      <td>120.464</td>\n      <td>120.009</td>\n      <td>120.028</td>\n      <td>6.674790e+06</td>\n    </tr>\n    <tr>\n      <th>4</th>\n      <td>04.01.2016 02:00:00.000</td>\n      <td>120.027</td>\n      <td>120.043</td>\n      <td>119.646</td>\n      <td>119.817</td>\n      <td>8.200750e+06</td>\n    </tr>\n    <tr>\n      <th>...</th>\n      <td>...</td>\n      <td>...</td>\n      <td>...</td>\n      <td>...</td>\n      <td>...</td>\n      <td>...</td>\n    </tr>\n    <tr>\n      <th>43643</th>\n      <td>30.12.2022 19:00:00.000</td>\n      <td>130.868</td>\n      <td>131.020</td>\n      <td>130.848</td>\n      <td>130.971</td>\n      <td>2.569386e+07</td>\n    </tr>\n    <tr>\n      <th>43644</th>\n      <td>30.12.2022 20:00:00.000</td>\n      <td>130.969</td>\n      <td>131.291</td>\n      <td>130.969</td>\n      <td>131.269</td>\n      <td>9.933500e+06</td>\n    </tr>\n    <tr>\n      <th>43645</th>\n      <td>30.12.2022 21:00:00.000</td>\n      <td>131.269</td>\n      <td>131.269</td>\n      <td>131.046</td>\n      <td>131.072</td>\n      <td>7.899270e+06</td>\n    </tr>\n    <tr>\n      <th>43646</th>\n      <td>01.01.2023 22:00:00.000</td>\n      <td>130.925</td>\n      <td>130.962</td>\n      <td>130.743</td>\n      <td>130.759</td>\n      <td>1.011000e+05</td>\n    </tr>\n    <tr>\n      <th>43647</th>\n      <td>01.01.2023 23:00:00.000</td>\n      <td>130.771</td>\n      <td>130.886</td>\n      <td>130.716</td>\n      <td>130.870</td>\n      <td>3.198000e+05</td>\n    </tr>\n  </tbody>\n</table>\n<p>43648 rows × 6 columns</p>\n</div>"
     },
     "execution_count": 97,
     "metadata": {},
     "output_type": "execute_result"
    }
   ],
   "source": [
    "data = pd.read_csv(DATA_PATH)\n",
    "data"
   ],
   "metadata": {
    "collapsed": false,
    "ExecuteTime": {
     "end_time": "2023-09-25T21:07:23.400374400Z",
     "start_time": "2023-09-25T21:07:23.277667100Z"
    }
   },
   "id": "f8be42b5915659e"
  },
  {
   "cell_type": "markdown",
   "source": [
    "## Identify Missing Values"
   ],
   "metadata": {
    "collapsed": false
   },
   "id": "67301a091fd32be8"
  },
  {
   "cell_type": "code",
   "execution_count": 98,
   "outputs": [
    {
     "data": {
      "text/plain": "Gmt time    0\nOpen        0\nHigh        0\nLow         0\nClose       0\nVolume      0\ndtype: int64"
     },
     "execution_count": 98,
     "metadata": {},
     "output_type": "execute_result"
    }
   ],
   "source": [
    "def identify_missing_values(df):\n",
    "    return df.isnull().sum()\n",
    "\n",
    "identify_missing_values(data)"
   ],
   "metadata": {
    "collapsed": false,
    "ExecuteTime": {
     "end_time": "2023-09-25T21:07:23.401372Z",
     "start_time": "2023-09-25T21:07:23.348672600Z"
    }
   },
   "id": "278ca05fdd044fa3"
  },
  {
   "cell_type": "markdown",
   "source": [
    "## Identify Outliers - does not make sense in this context"
   ],
   "metadata": {
    "collapsed": false
   },
   "id": "47a6fa12a1b4a27e"
  },
  {
   "cell_type": "markdown",
   "source": [
    "## Derived Measures"
   ],
   "metadata": {
    "collapsed": false
   },
   "id": "2d5b84b4b9eb3de6"
  },
  {
   "cell_type": "code",
   "execution_count": 99,
   "outputs": [
    {
     "data": {
      "text/plain": "                      Gmt time     Open     High      Low    Close  \\\n0      03.01.2016 22:00:00.000  120.188  120.319  120.183  120.283   \n1      03.01.2016 23:00:00.000  120.286  120.385  120.232  120.316   \n2      04.01.2016 00:00:00.000  120.315  120.390  120.269  120.371   \n3      04.01.2016 01:00:00.000  120.370  120.464  120.009  120.028   \n4      04.01.2016 02:00:00.000  120.027  120.043  119.646  119.817   \n...                        ...      ...      ...      ...      ...   \n43643  30.12.2022 19:00:00.000  130.868  131.020  130.848  130.971   \n43644  30.12.2022 20:00:00.000  130.969  131.291  130.969  131.269   \n43645  30.12.2022 21:00:00.000  131.269  131.269  131.046  131.072   \n43646  01.01.2023 22:00:00.000  130.925  130.962  130.743  130.759   \n43647  01.01.2023 23:00:00.000  130.771  130.886  130.716  130.870   \n\n             Volume  Log_Return  \n0      1.766420e+06         NaN  \n1      2.787850e+06    0.000274  \n2      4.205490e+06    0.000457  \n3      6.674790e+06   -0.002854  \n4      8.200750e+06   -0.001759  \n...             ...         ...  \n43643  2.569386e+07    0.000787  \n43644  9.933500e+06    0.002273  \n43645  7.899270e+06   -0.001502  \n43646  1.011000e+05   -0.002391  \n43647  3.198000e+05    0.000849  \n\n[43648 rows x 7 columns]",
      "text/html": "<div>\n<style scoped>\n    .dataframe tbody tr th:only-of-type {\n        vertical-align: middle;\n    }\n\n    .dataframe tbody tr th {\n        vertical-align: top;\n    }\n\n    .dataframe thead th {\n        text-align: right;\n    }\n</style>\n<table border=\"1\" class=\"dataframe\">\n  <thead>\n    <tr style=\"text-align: right;\">\n      <th></th>\n      <th>Gmt time</th>\n      <th>Open</th>\n      <th>High</th>\n      <th>Low</th>\n      <th>Close</th>\n      <th>Volume</th>\n      <th>Log_Return</th>\n    </tr>\n  </thead>\n  <tbody>\n    <tr>\n      <th>0</th>\n      <td>03.01.2016 22:00:00.000</td>\n      <td>120.188</td>\n      <td>120.319</td>\n      <td>120.183</td>\n      <td>120.283</td>\n      <td>1.766420e+06</td>\n      <td>NaN</td>\n    </tr>\n    <tr>\n      <th>1</th>\n      <td>03.01.2016 23:00:00.000</td>\n      <td>120.286</td>\n      <td>120.385</td>\n      <td>120.232</td>\n      <td>120.316</td>\n      <td>2.787850e+06</td>\n      <td>0.000274</td>\n    </tr>\n    <tr>\n      <th>2</th>\n      <td>04.01.2016 00:00:00.000</td>\n      <td>120.315</td>\n      <td>120.390</td>\n      <td>120.269</td>\n      <td>120.371</td>\n      <td>4.205490e+06</td>\n      <td>0.000457</td>\n    </tr>\n    <tr>\n      <th>3</th>\n      <td>04.01.2016 01:00:00.000</td>\n      <td>120.370</td>\n      <td>120.464</td>\n      <td>120.009</td>\n      <td>120.028</td>\n      <td>6.674790e+06</td>\n      <td>-0.002854</td>\n    </tr>\n    <tr>\n      <th>4</th>\n      <td>04.01.2016 02:00:00.000</td>\n      <td>120.027</td>\n      <td>120.043</td>\n      <td>119.646</td>\n      <td>119.817</td>\n      <td>8.200750e+06</td>\n      <td>-0.001759</td>\n    </tr>\n    <tr>\n      <th>...</th>\n      <td>...</td>\n      <td>...</td>\n      <td>...</td>\n      <td>...</td>\n      <td>...</td>\n      <td>...</td>\n      <td>...</td>\n    </tr>\n    <tr>\n      <th>43643</th>\n      <td>30.12.2022 19:00:00.000</td>\n      <td>130.868</td>\n      <td>131.020</td>\n      <td>130.848</td>\n      <td>130.971</td>\n      <td>2.569386e+07</td>\n      <td>0.000787</td>\n    </tr>\n    <tr>\n      <th>43644</th>\n      <td>30.12.2022 20:00:00.000</td>\n      <td>130.969</td>\n      <td>131.291</td>\n      <td>130.969</td>\n      <td>131.269</td>\n      <td>9.933500e+06</td>\n      <td>0.002273</td>\n    </tr>\n    <tr>\n      <th>43645</th>\n      <td>30.12.2022 21:00:00.000</td>\n      <td>131.269</td>\n      <td>131.269</td>\n      <td>131.046</td>\n      <td>131.072</td>\n      <td>7.899270e+06</td>\n      <td>-0.001502</td>\n    </tr>\n    <tr>\n      <th>43646</th>\n      <td>01.01.2023 22:00:00.000</td>\n      <td>130.925</td>\n      <td>130.962</td>\n      <td>130.743</td>\n      <td>130.759</td>\n      <td>1.011000e+05</td>\n      <td>-0.002391</td>\n    </tr>\n    <tr>\n      <th>43647</th>\n      <td>01.01.2023 23:00:00.000</td>\n      <td>130.771</td>\n      <td>130.886</td>\n      <td>130.716</td>\n      <td>130.870</td>\n      <td>3.198000e+05</td>\n      <td>0.000849</td>\n    </tr>\n  </tbody>\n</table>\n<p>43648 rows × 7 columns</p>\n</div>"
     },
     "execution_count": 99,
     "metadata": {},
     "output_type": "execute_result"
    }
   ],
   "source": [
    "def calculate_log_returns(df):\n",
    "    df['Log_Return'] = np.log(df['Close'] / df['Close'].shift(1))\n",
    "    return df\n",
    "\n",
    "calculate_log_returns(data)\n",
    "data"
   ],
   "metadata": {
    "collapsed": false,
    "ExecuteTime": {
     "end_time": "2023-09-25T21:07:23.402368900Z",
     "start_time": "2023-09-25T21:07:23.360483400Z"
    }
   },
   "id": "bb94b59a7e213b13"
  },
  {
   "cell_type": "code",
   "execution_count": 100,
   "outputs": [
    {
     "data": {
      "text/plain": "                      Gmt time     Open     High      Low    Close  \\\n0      03.01.2016 22:00:00.000  120.188  120.319  120.183  120.283   \n1      03.01.2016 23:00:00.000  120.286  120.385  120.232  120.316   \n2      04.01.2016 00:00:00.000  120.315  120.390  120.269  120.371   \n3      04.01.2016 01:00:00.000  120.370  120.464  120.009  120.028   \n4      04.01.2016 02:00:00.000  120.027  120.043  119.646  119.817   \n...                        ...      ...      ...      ...      ...   \n43643  30.12.2022 19:00:00.000  130.868  131.020  130.848  130.971   \n43644  30.12.2022 20:00:00.000  130.969  131.291  130.969  131.269   \n43645  30.12.2022 21:00:00.000  131.269  131.269  131.046  131.072   \n43646  01.01.2023 22:00:00.000  130.925  130.962  130.743  130.759   \n43647  01.01.2023 23:00:00.000  130.771  130.886  130.716  130.870   \n\n             Volume  Log_Return     SMA_20     SMA_50  \n0      1.766420e+06         NaN        NaN        NaN  \n1      2.787850e+06    0.000274        NaN        NaN  \n2      4.205490e+06    0.000457        NaN        NaN  \n3      6.674790e+06   -0.002854        NaN        NaN  \n4      8.200750e+06   -0.001759        NaN        NaN  \n...             ...         ...        ...        ...  \n43643  2.569386e+07    0.000787  131.97695  132.94732  \n43644  9.933500e+06    0.002273  131.91840  132.88782  \n43645  7.899270e+06   -0.001502  131.84970  132.82186  \n43646  1.011000e+05   -0.002391  131.75955  132.74734  \n43647  3.198000e+05    0.000849  131.67000  132.67574  \n\n[43648 rows x 9 columns]",
      "text/html": "<div>\n<style scoped>\n    .dataframe tbody tr th:only-of-type {\n        vertical-align: middle;\n    }\n\n    .dataframe tbody tr th {\n        vertical-align: top;\n    }\n\n    .dataframe thead th {\n        text-align: right;\n    }\n</style>\n<table border=\"1\" class=\"dataframe\">\n  <thead>\n    <tr style=\"text-align: right;\">\n      <th></th>\n      <th>Gmt time</th>\n      <th>Open</th>\n      <th>High</th>\n      <th>Low</th>\n      <th>Close</th>\n      <th>Volume</th>\n      <th>Log_Return</th>\n      <th>SMA_20</th>\n      <th>SMA_50</th>\n    </tr>\n  </thead>\n  <tbody>\n    <tr>\n      <th>0</th>\n      <td>03.01.2016 22:00:00.000</td>\n      <td>120.188</td>\n      <td>120.319</td>\n      <td>120.183</td>\n      <td>120.283</td>\n      <td>1.766420e+06</td>\n      <td>NaN</td>\n      <td>NaN</td>\n      <td>NaN</td>\n    </tr>\n    <tr>\n      <th>1</th>\n      <td>03.01.2016 23:00:00.000</td>\n      <td>120.286</td>\n      <td>120.385</td>\n      <td>120.232</td>\n      <td>120.316</td>\n      <td>2.787850e+06</td>\n      <td>0.000274</td>\n      <td>NaN</td>\n      <td>NaN</td>\n    </tr>\n    <tr>\n      <th>2</th>\n      <td>04.01.2016 00:00:00.000</td>\n      <td>120.315</td>\n      <td>120.390</td>\n      <td>120.269</td>\n      <td>120.371</td>\n      <td>4.205490e+06</td>\n      <td>0.000457</td>\n      <td>NaN</td>\n      <td>NaN</td>\n    </tr>\n    <tr>\n      <th>3</th>\n      <td>04.01.2016 01:00:00.000</td>\n      <td>120.370</td>\n      <td>120.464</td>\n      <td>120.009</td>\n      <td>120.028</td>\n      <td>6.674790e+06</td>\n      <td>-0.002854</td>\n      <td>NaN</td>\n      <td>NaN</td>\n    </tr>\n    <tr>\n      <th>4</th>\n      <td>04.01.2016 02:00:00.000</td>\n      <td>120.027</td>\n      <td>120.043</td>\n      <td>119.646</td>\n      <td>119.817</td>\n      <td>8.200750e+06</td>\n      <td>-0.001759</td>\n      <td>NaN</td>\n      <td>NaN</td>\n    </tr>\n    <tr>\n      <th>...</th>\n      <td>...</td>\n      <td>...</td>\n      <td>...</td>\n      <td>...</td>\n      <td>...</td>\n      <td>...</td>\n      <td>...</td>\n      <td>...</td>\n      <td>...</td>\n    </tr>\n    <tr>\n      <th>43643</th>\n      <td>30.12.2022 19:00:00.000</td>\n      <td>130.868</td>\n      <td>131.020</td>\n      <td>130.848</td>\n      <td>130.971</td>\n      <td>2.569386e+07</td>\n      <td>0.000787</td>\n      <td>131.97695</td>\n      <td>132.94732</td>\n    </tr>\n    <tr>\n      <th>43644</th>\n      <td>30.12.2022 20:00:00.000</td>\n      <td>130.969</td>\n      <td>131.291</td>\n      <td>130.969</td>\n      <td>131.269</td>\n      <td>9.933500e+06</td>\n      <td>0.002273</td>\n      <td>131.91840</td>\n      <td>132.88782</td>\n    </tr>\n    <tr>\n      <th>43645</th>\n      <td>30.12.2022 21:00:00.000</td>\n      <td>131.269</td>\n      <td>131.269</td>\n      <td>131.046</td>\n      <td>131.072</td>\n      <td>7.899270e+06</td>\n      <td>-0.001502</td>\n      <td>131.84970</td>\n      <td>132.82186</td>\n    </tr>\n    <tr>\n      <th>43646</th>\n      <td>01.01.2023 22:00:00.000</td>\n      <td>130.925</td>\n      <td>130.962</td>\n      <td>130.743</td>\n      <td>130.759</td>\n      <td>1.011000e+05</td>\n      <td>-0.002391</td>\n      <td>131.75955</td>\n      <td>132.74734</td>\n    </tr>\n    <tr>\n      <th>43647</th>\n      <td>01.01.2023 23:00:00.000</td>\n      <td>130.771</td>\n      <td>130.886</td>\n      <td>130.716</td>\n      <td>130.870</td>\n      <td>3.198000e+05</td>\n      <td>0.000849</td>\n      <td>131.67000</td>\n      <td>132.67574</td>\n    </tr>\n  </tbody>\n</table>\n<p>43648 rows × 9 columns</p>\n</div>"
     },
     "execution_count": 100,
     "metadata": {},
     "output_type": "execute_result"
    }
   ],
   "source": [
    "def calculate_sma(df, period):\n",
    "    column_name = f\"SMA_{period}\"\n",
    "    df[column_name] = df['Close'].rolling(window=period).mean()\n",
    "    return df\n",
    "\n",
    "calculate_sma(data, period=20)\n",
    "calculate_sma(data, period=50)\n",
    "data"
   ],
   "metadata": {
    "collapsed": false,
    "ExecuteTime": {
     "end_time": "2023-09-25T21:07:23.402368900Z",
     "start_time": "2023-09-25T21:07:23.375441200Z"
    }
   },
   "id": "760ba850b8700ff0"
  },
  {
   "cell_type": "code",
   "execution_count": 101,
   "outputs": [
    {
     "data": {
      "text/plain": "                      Gmt time     Open     High      Low    Close  \\\n0      03.01.2016 22:00:00.000  120.188  120.319  120.183  120.283   \n1      03.01.2016 23:00:00.000  120.286  120.385  120.232  120.316   \n2      04.01.2016 00:00:00.000  120.315  120.390  120.269  120.371   \n3      04.01.2016 01:00:00.000  120.370  120.464  120.009  120.028   \n4      04.01.2016 02:00:00.000  120.027  120.043  119.646  119.817   \n...                        ...      ...      ...      ...      ...   \n43643  30.12.2022 19:00:00.000  130.868  131.020  130.848  130.971   \n43644  30.12.2022 20:00:00.000  130.969  131.291  130.969  131.269   \n43645  30.12.2022 21:00:00.000  131.269  131.269  131.046  131.072   \n43646  01.01.2023 22:00:00.000  130.925  130.962  130.743  130.759   \n43647  01.01.2023 23:00:00.000  130.771  130.886  130.716  130.870   \n\n             Volume  Log_Return     SMA_20     SMA_50        RSI  \n0      1.766420e+06         NaN        NaN        NaN        NaN  \n1      2.787850e+06    0.000274        NaN        NaN        NaN  \n2      4.205490e+06    0.000457        NaN        NaN        NaN  \n3      6.674790e+06   -0.002854        NaN        NaN        NaN  \n4      8.200750e+06   -0.001759        NaN        NaN        NaN  \n...             ...         ...        ...        ...        ...  \n43643  2.569386e+07    0.000787  131.97695  132.94732  24.770642  \n43644  9.933500e+06    0.002273  131.91840  132.88782  32.597823  \n43645  7.899270e+06   -0.001502  131.84970  132.82186  33.811413  \n43646  1.011000e+05   -0.002391  131.75955  132.74734  34.897638  \n43647  3.198000e+05    0.000849  131.67000  132.67574  28.328710  \n\n[43648 rows x 10 columns]",
      "text/html": "<div>\n<style scoped>\n    .dataframe tbody tr th:only-of-type {\n        vertical-align: middle;\n    }\n\n    .dataframe tbody tr th {\n        vertical-align: top;\n    }\n\n    .dataframe thead th {\n        text-align: right;\n    }\n</style>\n<table border=\"1\" class=\"dataframe\">\n  <thead>\n    <tr style=\"text-align: right;\">\n      <th></th>\n      <th>Gmt time</th>\n      <th>Open</th>\n      <th>High</th>\n      <th>Low</th>\n      <th>Close</th>\n      <th>Volume</th>\n      <th>Log_Return</th>\n      <th>SMA_20</th>\n      <th>SMA_50</th>\n      <th>RSI</th>\n    </tr>\n  </thead>\n  <tbody>\n    <tr>\n      <th>0</th>\n      <td>03.01.2016 22:00:00.000</td>\n      <td>120.188</td>\n      <td>120.319</td>\n      <td>120.183</td>\n      <td>120.283</td>\n      <td>1.766420e+06</td>\n      <td>NaN</td>\n      <td>NaN</td>\n      <td>NaN</td>\n      <td>NaN</td>\n    </tr>\n    <tr>\n      <th>1</th>\n      <td>03.01.2016 23:00:00.000</td>\n      <td>120.286</td>\n      <td>120.385</td>\n      <td>120.232</td>\n      <td>120.316</td>\n      <td>2.787850e+06</td>\n      <td>0.000274</td>\n      <td>NaN</td>\n      <td>NaN</td>\n      <td>NaN</td>\n    </tr>\n    <tr>\n      <th>2</th>\n      <td>04.01.2016 00:00:00.000</td>\n      <td>120.315</td>\n      <td>120.390</td>\n      <td>120.269</td>\n      <td>120.371</td>\n      <td>4.205490e+06</td>\n      <td>0.000457</td>\n      <td>NaN</td>\n      <td>NaN</td>\n      <td>NaN</td>\n    </tr>\n    <tr>\n      <th>3</th>\n      <td>04.01.2016 01:00:00.000</td>\n      <td>120.370</td>\n      <td>120.464</td>\n      <td>120.009</td>\n      <td>120.028</td>\n      <td>6.674790e+06</td>\n      <td>-0.002854</td>\n      <td>NaN</td>\n      <td>NaN</td>\n      <td>NaN</td>\n    </tr>\n    <tr>\n      <th>4</th>\n      <td>04.01.2016 02:00:00.000</td>\n      <td>120.027</td>\n      <td>120.043</td>\n      <td>119.646</td>\n      <td>119.817</td>\n      <td>8.200750e+06</td>\n      <td>-0.001759</td>\n      <td>NaN</td>\n      <td>NaN</td>\n      <td>NaN</td>\n    </tr>\n    <tr>\n      <th>...</th>\n      <td>...</td>\n      <td>...</td>\n      <td>...</td>\n      <td>...</td>\n      <td>...</td>\n      <td>...</td>\n      <td>...</td>\n      <td>...</td>\n      <td>...</td>\n      <td>...</td>\n    </tr>\n    <tr>\n      <th>43643</th>\n      <td>30.12.2022 19:00:00.000</td>\n      <td>130.868</td>\n      <td>131.020</td>\n      <td>130.848</td>\n      <td>130.971</td>\n      <td>2.569386e+07</td>\n      <td>0.000787</td>\n      <td>131.97695</td>\n      <td>132.94732</td>\n      <td>24.770642</td>\n    </tr>\n    <tr>\n      <th>43644</th>\n      <td>30.12.2022 20:00:00.000</td>\n      <td>130.969</td>\n      <td>131.291</td>\n      <td>130.969</td>\n      <td>131.269</td>\n      <td>9.933500e+06</td>\n      <td>0.002273</td>\n      <td>131.91840</td>\n      <td>132.88782</td>\n      <td>32.597823</td>\n    </tr>\n    <tr>\n      <th>43645</th>\n      <td>30.12.2022 21:00:00.000</td>\n      <td>131.269</td>\n      <td>131.269</td>\n      <td>131.046</td>\n      <td>131.072</td>\n      <td>7.899270e+06</td>\n      <td>-0.001502</td>\n      <td>131.84970</td>\n      <td>132.82186</td>\n      <td>33.811413</td>\n    </tr>\n    <tr>\n      <th>43646</th>\n      <td>01.01.2023 22:00:00.000</td>\n      <td>130.925</td>\n      <td>130.962</td>\n      <td>130.743</td>\n      <td>130.759</td>\n      <td>1.011000e+05</td>\n      <td>-0.002391</td>\n      <td>131.75955</td>\n      <td>132.74734</td>\n      <td>34.897638</td>\n    </tr>\n    <tr>\n      <th>43647</th>\n      <td>01.01.2023 23:00:00.000</td>\n      <td>130.771</td>\n      <td>130.886</td>\n      <td>130.716</td>\n      <td>130.870</td>\n      <td>3.198000e+05</td>\n      <td>0.000849</td>\n      <td>131.67000</td>\n      <td>132.67574</td>\n      <td>28.328710</td>\n    </tr>\n  </tbody>\n</table>\n<p>43648 rows × 10 columns</p>\n</div>"
     },
     "execution_count": 101,
     "metadata": {},
     "output_type": "execute_result"
    }
   ],
   "source": [
    "def calculate_rsi(df, period):\n",
    "    delta = df['Close'].diff(1)\n",
    "    gain = (delta.where(delta > 0, 0)).fillna(0)\n",
    "    loss = (-delta.where(delta < 0, 0)).fillna(0)\n",
    "    avg_gain = gain.rolling(window=period).mean()\n",
    "    avg_loss = loss.rolling(window=period).mean()\n",
    "    rs = avg_gain / avg_loss\n",
    "    df['RSI'] = 100 - (100 / (1 + rs))\n",
    "    return df\n",
    "\n",
    "calculate_rsi(data, period=14)\n",
    "data"
   ],
   "metadata": {
    "collapsed": false,
    "ExecuteTime": {
     "end_time": "2023-09-25T21:07:23.439856100Z",
     "start_time": "2023-09-25T21:07:23.393393Z"
    }
   },
   "id": "953148bed942a9b1"
  },
  {
   "cell_type": "code",
   "execution_count": 102,
   "outputs": [
    {
     "data": {
      "text/plain": "                      Gmt time     Open     High      Low    Close  \\\n0      03.01.2016 22:00:00.000  120.188  120.319  120.183  120.283   \n1      03.01.2016 23:00:00.000  120.286  120.385  120.232  120.316   \n2      04.01.2016 00:00:00.000  120.315  120.390  120.269  120.371   \n3      04.01.2016 01:00:00.000  120.370  120.464  120.009  120.028   \n4      04.01.2016 02:00:00.000  120.027  120.043  119.646  119.817   \n...                        ...      ...      ...      ...      ...   \n43643  30.12.2022 19:00:00.000  130.868  131.020  130.848  130.971   \n43644  30.12.2022 20:00:00.000  130.969  131.291  130.969  131.269   \n43645  30.12.2022 21:00:00.000  131.269  131.269  131.046  131.072   \n43646  01.01.2023 22:00:00.000  130.925  130.962  130.743  130.759   \n43647  01.01.2023 23:00:00.000  130.771  130.886  130.716  130.870   \n\n             Volume  Log_Return     SMA_20     SMA_50        RSI  \\\n0      1.766420e+06         NaN        NaN        NaN        NaN   \n1      2.787850e+06    0.000274        NaN        NaN        NaN   \n2      4.205490e+06    0.000457        NaN        NaN        NaN   \n3      6.674790e+06   -0.002854        NaN        NaN        NaN   \n4      8.200750e+06   -0.001759        NaN        NaN        NaN   \n...             ...         ...        ...        ...        ...   \n43643  2.569386e+07    0.000787  131.97695  132.94732  24.770642   \n43644  9.933500e+06    0.002273  131.91840  132.88782  32.597823   \n43645  7.899270e+06   -0.001502  131.84970  132.82186  33.811413   \n43646  1.011000e+05   -0.002391  131.75955  132.74734  34.897638   \n43647  3.198000e+05    0.000849  131.67000  132.67574  28.328710   \n\n       Upper_Bollinger_Band  Lower_Bollinger_Band  \n0                       NaN                   NaN  \n1                       NaN                   NaN  \n2                       NaN                   NaN  \n3                       NaN                   NaN  \n4                       NaN                   NaN  \n...                     ...                   ...  \n43643            133.082505            130.871395  \n43644            133.044541            130.792259  \n43645            133.007516            130.691884  \n43646            132.963689            130.555411  \n43647            132.858149            130.481851  \n\n[43648 rows x 12 columns]",
      "text/html": "<div>\n<style scoped>\n    .dataframe tbody tr th:only-of-type {\n        vertical-align: middle;\n    }\n\n    .dataframe tbody tr th {\n        vertical-align: top;\n    }\n\n    .dataframe thead th {\n        text-align: right;\n    }\n</style>\n<table border=\"1\" class=\"dataframe\">\n  <thead>\n    <tr style=\"text-align: right;\">\n      <th></th>\n      <th>Gmt time</th>\n      <th>Open</th>\n      <th>High</th>\n      <th>Low</th>\n      <th>Close</th>\n      <th>Volume</th>\n      <th>Log_Return</th>\n      <th>SMA_20</th>\n      <th>SMA_50</th>\n      <th>RSI</th>\n      <th>Upper_Bollinger_Band</th>\n      <th>Lower_Bollinger_Band</th>\n    </tr>\n  </thead>\n  <tbody>\n    <tr>\n      <th>0</th>\n      <td>03.01.2016 22:00:00.000</td>\n      <td>120.188</td>\n      <td>120.319</td>\n      <td>120.183</td>\n      <td>120.283</td>\n      <td>1.766420e+06</td>\n      <td>NaN</td>\n      <td>NaN</td>\n      <td>NaN</td>\n      <td>NaN</td>\n      <td>NaN</td>\n      <td>NaN</td>\n    </tr>\n    <tr>\n      <th>1</th>\n      <td>03.01.2016 23:00:00.000</td>\n      <td>120.286</td>\n      <td>120.385</td>\n      <td>120.232</td>\n      <td>120.316</td>\n      <td>2.787850e+06</td>\n      <td>0.000274</td>\n      <td>NaN</td>\n      <td>NaN</td>\n      <td>NaN</td>\n      <td>NaN</td>\n      <td>NaN</td>\n    </tr>\n    <tr>\n      <th>2</th>\n      <td>04.01.2016 00:00:00.000</td>\n      <td>120.315</td>\n      <td>120.390</td>\n      <td>120.269</td>\n      <td>120.371</td>\n      <td>4.205490e+06</td>\n      <td>0.000457</td>\n      <td>NaN</td>\n      <td>NaN</td>\n      <td>NaN</td>\n      <td>NaN</td>\n      <td>NaN</td>\n    </tr>\n    <tr>\n      <th>3</th>\n      <td>04.01.2016 01:00:00.000</td>\n      <td>120.370</td>\n      <td>120.464</td>\n      <td>120.009</td>\n      <td>120.028</td>\n      <td>6.674790e+06</td>\n      <td>-0.002854</td>\n      <td>NaN</td>\n      <td>NaN</td>\n      <td>NaN</td>\n      <td>NaN</td>\n      <td>NaN</td>\n    </tr>\n    <tr>\n      <th>4</th>\n      <td>04.01.2016 02:00:00.000</td>\n      <td>120.027</td>\n      <td>120.043</td>\n      <td>119.646</td>\n      <td>119.817</td>\n      <td>8.200750e+06</td>\n      <td>-0.001759</td>\n      <td>NaN</td>\n      <td>NaN</td>\n      <td>NaN</td>\n      <td>NaN</td>\n      <td>NaN</td>\n    </tr>\n    <tr>\n      <th>...</th>\n      <td>...</td>\n      <td>...</td>\n      <td>...</td>\n      <td>...</td>\n      <td>...</td>\n      <td>...</td>\n      <td>...</td>\n      <td>...</td>\n      <td>...</td>\n      <td>...</td>\n      <td>...</td>\n      <td>...</td>\n    </tr>\n    <tr>\n      <th>43643</th>\n      <td>30.12.2022 19:00:00.000</td>\n      <td>130.868</td>\n      <td>131.020</td>\n      <td>130.848</td>\n      <td>130.971</td>\n      <td>2.569386e+07</td>\n      <td>0.000787</td>\n      <td>131.97695</td>\n      <td>132.94732</td>\n      <td>24.770642</td>\n      <td>133.082505</td>\n      <td>130.871395</td>\n    </tr>\n    <tr>\n      <th>43644</th>\n      <td>30.12.2022 20:00:00.000</td>\n      <td>130.969</td>\n      <td>131.291</td>\n      <td>130.969</td>\n      <td>131.269</td>\n      <td>9.933500e+06</td>\n      <td>0.002273</td>\n      <td>131.91840</td>\n      <td>132.88782</td>\n      <td>32.597823</td>\n      <td>133.044541</td>\n      <td>130.792259</td>\n    </tr>\n    <tr>\n      <th>43645</th>\n      <td>30.12.2022 21:00:00.000</td>\n      <td>131.269</td>\n      <td>131.269</td>\n      <td>131.046</td>\n      <td>131.072</td>\n      <td>7.899270e+06</td>\n      <td>-0.001502</td>\n      <td>131.84970</td>\n      <td>132.82186</td>\n      <td>33.811413</td>\n      <td>133.007516</td>\n      <td>130.691884</td>\n    </tr>\n    <tr>\n      <th>43646</th>\n      <td>01.01.2023 22:00:00.000</td>\n      <td>130.925</td>\n      <td>130.962</td>\n      <td>130.743</td>\n      <td>130.759</td>\n      <td>1.011000e+05</td>\n      <td>-0.002391</td>\n      <td>131.75955</td>\n      <td>132.74734</td>\n      <td>34.897638</td>\n      <td>132.963689</td>\n      <td>130.555411</td>\n    </tr>\n    <tr>\n      <th>43647</th>\n      <td>01.01.2023 23:00:00.000</td>\n      <td>130.771</td>\n      <td>130.886</td>\n      <td>130.716</td>\n      <td>130.870</td>\n      <td>3.198000e+05</td>\n      <td>0.000849</td>\n      <td>131.67000</td>\n      <td>132.67574</td>\n      <td>28.328710</td>\n      <td>132.858149</td>\n      <td>130.481851</td>\n    </tr>\n  </tbody>\n</table>\n<p>43648 rows × 12 columns</p>\n</div>"
     },
     "execution_count": 102,
     "metadata": {},
     "output_type": "execute_result"
    }
   ],
   "source": [
    "def calculate_bollinger_bands(df, period=20):\n",
    "    sma = df['Close'].rolling(window=period).mean()\n",
    "    rolling_std = df['Close'].rolling(window=period).std()\n",
    "    df['Upper_Bollinger_Band'] = sma + (rolling_std * 2)\n",
    "    df['Lower_Bollinger_Band'] = sma - (rolling_std * 2)\n",
    "    return df\n",
    "\n",
    "calculate_bollinger_bands(data, period=20)\n",
    "data"
   ],
   "metadata": {
    "collapsed": false,
    "ExecuteTime": {
     "end_time": "2023-09-25T21:07:23.483510Z",
     "start_time": "2023-09-25T21:07:23.419909900Z"
    }
   },
   "id": "453da244ff9ec34a"
  },
  {
   "cell_type": "code",
   "execution_count": 103,
   "outputs": [
    {
     "data": {
      "text/plain": "                      Gmt time     Open     High      Low    Close  \\\n0      03.01.2016 22:00:00.000  120.188  120.319  120.183  120.283   \n1      03.01.2016 23:00:00.000  120.286  120.385  120.232  120.316   \n2      04.01.2016 00:00:00.000  120.315  120.390  120.269  120.371   \n3      04.01.2016 01:00:00.000  120.370  120.464  120.009  120.028   \n4      04.01.2016 02:00:00.000  120.027  120.043  119.646  119.817   \n...                        ...      ...      ...      ...      ...   \n43643  30.12.2022 19:00:00.000  130.868  131.020  130.848  130.971   \n43644  30.12.2022 20:00:00.000  130.969  131.291  130.969  131.269   \n43645  30.12.2022 21:00:00.000  131.269  131.269  131.046  131.072   \n43646  01.01.2023 22:00:00.000  130.925  130.962  130.743  130.759   \n43647  01.01.2023 23:00:00.000  130.771  130.886  130.716  130.870   \n\n             Volume  Log_Return     SMA_20     SMA_50        RSI  \\\n0      1.766420e+06         NaN        NaN        NaN        NaN   \n1      2.787850e+06    0.000274        NaN        NaN        NaN   \n2      4.205490e+06    0.000457        NaN        NaN        NaN   \n3      6.674790e+06   -0.002854        NaN        NaN        NaN   \n4      8.200750e+06   -0.001759        NaN        NaN        NaN   \n...             ...         ...        ...        ...        ...   \n43643  2.569386e+07    0.000787  131.97695  132.94732  24.770642   \n43644  9.933500e+06    0.002273  131.91840  132.88782  32.597823   \n43645  7.899270e+06   -0.001502  131.84970  132.82186  33.811413   \n43646  1.011000e+05   -0.002391  131.75955  132.74734  34.897638   \n43647  3.198000e+05    0.000849  131.67000  132.67574  28.328710   \n\n       Upper_Bollinger_Band  Lower_Bollinger_Band       ATR  \n0                       NaN                   NaN       NaN  \n1                       NaN                   NaN       NaN  \n2                       NaN                   NaN       NaN  \n3                       NaN                   NaN       NaN  \n4                       NaN                   NaN       NaN  \n...                     ...                   ...       ...  \n43643            133.082505            130.871395  0.384500  \n43644            133.044541            130.792259  0.393000  \n43645            133.007516            130.691884  0.376071  \n43646            132.963689            130.555411  0.365429  \n43647            132.858149            130.481851  0.335429  \n\n[43648 rows x 13 columns]",
      "text/html": "<div>\n<style scoped>\n    .dataframe tbody tr th:only-of-type {\n        vertical-align: middle;\n    }\n\n    .dataframe tbody tr th {\n        vertical-align: top;\n    }\n\n    .dataframe thead th {\n        text-align: right;\n    }\n</style>\n<table border=\"1\" class=\"dataframe\">\n  <thead>\n    <tr style=\"text-align: right;\">\n      <th></th>\n      <th>Gmt time</th>\n      <th>Open</th>\n      <th>High</th>\n      <th>Low</th>\n      <th>Close</th>\n      <th>Volume</th>\n      <th>Log_Return</th>\n      <th>SMA_20</th>\n      <th>SMA_50</th>\n      <th>RSI</th>\n      <th>Upper_Bollinger_Band</th>\n      <th>Lower_Bollinger_Band</th>\n      <th>ATR</th>\n    </tr>\n  </thead>\n  <tbody>\n    <tr>\n      <th>0</th>\n      <td>03.01.2016 22:00:00.000</td>\n      <td>120.188</td>\n      <td>120.319</td>\n      <td>120.183</td>\n      <td>120.283</td>\n      <td>1.766420e+06</td>\n      <td>NaN</td>\n      <td>NaN</td>\n      <td>NaN</td>\n      <td>NaN</td>\n      <td>NaN</td>\n      <td>NaN</td>\n      <td>NaN</td>\n    </tr>\n    <tr>\n      <th>1</th>\n      <td>03.01.2016 23:00:00.000</td>\n      <td>120.286</td>\n      <td>120.385</td>\n      <td>120.232</td>\n      <td>120.316</td>\n      <td>2.787850e+06</td>\n      <td>0.000274</td>\n      <td>NaN</td>\n      <td>NaN</td>\n      <td>NaN</td>\n      <td>NaN</td>\n      <td>NaN</td>\n      <td>NaN</td>\n    </tr>\n    <tr>\n      <th>2</th>\n      <td>04.01.2016 00:00:00.000</td>\n      <td>120.315</td>\n      <td>120.390</td>\n      <td>120.269</td>\n      <td>120.371</td>\n      <td>4.205490e+06</td>\n      <td>0.000457</td>\n      <td>NaN</td>\n      <td>NaN</td>\n      <td>NaN</td>\n      <td>NaN</td>\n      <td>NaN</td>\n      <td>NaN</td>\n    </tr>\n    <tr>\n      <th>3</th>\n      <td>04.01.2016 01:00:00.000</td>\n      <td>120.370</td>\n      <td>120.464</td>\n      <td>120.009</td>\n      <td>120.028</td>\n      <td>6.674790e+06</td>\n      <td>-0.002854</td>\n      <td>NaN</td>\n      <td>NaN</td>\n      <td>NaN</td>\n      <td>NaN</td>\n      <td>NaN</td>\n      <td>NaN</td>\n    </tr>\n    <tr>\n      <th>4</th>\n      <td>04.01.2016 02:00:00.000</td>\n      <td>120.027</td>\n      <td>120.043</td>\n      <td>119.646</td>\n      <td>119.817</td>\n      <td>8.200750e+06</td>\n      <td>-0.001759</td>\n      <td>NaN</td>\n      <td>NaN</td>\n      <td>NaN</td>\n      <td>NaN</td>\n      <td>NaN</td>\n      <td>NaN</td>\n    </tr>\n    <tr>\n      <th>...</th>\n      <td>...</td>\n      <td>...</td>\n      <td>...</td>\n      <td>...</td>\n      <td>...</td>\n      <td>...</td>\n      <td>...</td>\n      <td>...</td>\n      <td>...</td>\n      <td>...</td>\n      <td>...</td>\n      <td>...</td>\n      <td>...</td>\n    </tr>\n    <tr>\n      <th>43643</th>\n      <td>30.12.2022 19:00:00.000</td>\n      <td>130.868</td>\n      <td>131.020</td>\n      <td>130.848</td>\n      <td>130.971</td>\n      <td>2.569386e+07</td>\n      <td>0.000787</td>\n      <td>131.97695</td>\n      <td>132.94732</td>\n      <td>24.770642</td>\n      <td>133.082505</td>\n      <td>130.871395</td>\n      <td>0.384500</td>\n    </tr>\n    <tr>\n      <th>43644</th>\n      <td>30.12.2022 20:00:00.000</td>\n      <td>130.969</td>\n      <td>131.291</td>\n      <td>130.969</td>\n      <td>131.269</td>\n      <td>9.933500e+06</td>\n      <td>0.002273</td>\n      <td>131.91840</td>\n      <td>132.88782</td>\n      <td>32.597823</td>\n      <td>133.044541</td>\n      <td>130.792259</td>\n      <td>0.393000</td>\n    </tr>\n    <tr>\n      <th>43645</th>\n      <td>30.12.2022 21:00:00.000</td>\n      <td>131.269</td>\n      <td>131.269</td>\n      <td>131.046</td>\n      <td>131.072</td>\n      <td>7.899270e+06</td>\n      <td>-0.001502</td>\n      <td>131.84970</td>\n      <td>132.82186</td>\n      <td>33.811413</td>\n      <td>133.007516</td>\n      <td>130.691884</td>\n      <td>0.376071</td>\n    </tr>\n    <tr>\n      <th>43646</th>\n      <td>01.01.2023 22:00:00.000</td>\n      <td>130.925</td>\n      <td>130.962</td>\n      <td>130.743</td>\n      <td>130.759</td>\n      <td>1.011000e+05</td>\n      <td>-0.002391</td>\n      <td>131.75955</td>\n      <td>132.74734</td>\n      <td>34.897638</td>\n      <td>132.963689</td>\n      <td>130.555411</td>\n      <td>0.365429</td>\n    </tr>\n    <tr>\n      <th>43647</th>\n      <td>01.01.2023 23:00:00.000</td>\n      <td>130.771</td>\n      <td>130.886</td>\n      <td>130.716</td>\n      <td>130.870</td>\n      <td>3.198000e+05</td>\n      <td>0.000849</td>\n      <td>131.67000</td>\n      <td>132.67574</td>\n      <td>28.328710</td>\n      <td>132.858149</td>\n      <td>130.481851</td>\n      <td>0.335429</td>\n    </tr>\n  </tbody>\n</table>\n<p>43648 rows × 13 columns</p>\n</div>"
     },
     "execution_count": 103,
     "metadata": {},
     "output_type": "execute_result"
    }
   ],
   "source": [
    "def calculate_atr(df, period):\n",
    "    high_low = df['High'] - df['Low']\n",
    "    high_close = np.abs(df['High'] - df['Close'].shift(1))\n",
    "    low_close = np.abs(df['Low'] - df['Close'].shift(1))\n",
    "    ranges = pd.concat([high_low, high_close, low_close], axis=1)\n",
    "    true_range = ranges.max(axis=1)\n",
    "    df['ATR'] = true_range.rolling(window=period).mean()\n",
    "    return df\n",
    "\n",
    "calculate_atr(data, period=14)\n",
    "data"
   ],
   "metadata": {
    "collapsed": false,
    "ExecuteTime": {
     "end_time": "2023-09-25T21:07:23.596395800Z",
     "start_time": "2023-09-25T21:07:23.447091700Z"
    }
   },
   "id": "6c8c047b3dd4541d"
  },
  {
   "cell_type": "markdown",
   "source": [
    "## Remove NaN values"
   ],
   "metadata": {
    "collapsed": false
   },
   "id": "af140726923b2d21"
  },
  {
   "cell_type": "code",
   "execution_count": 104,
   "outputs": [
    {
     "data": {
      "text/plain": "                      Gmt time     Open     High      Low    Close  \\\n49     05.01.2016 23:00:00.000  119.118  119.165  119.088  119.110   \n50     06.01.2016 00:00:00.000  119.109  119.161  118.993  119.041   \n51     06.01.2016 01:00:00.000  119.044  119.131  118.356  118.566   \n52     06.01.2016 02:00:00.000  118.565  118.666  118.407  118.491   \n53     06.01.2016 03:00:00.000  118.491  118.673  118.383  118.652   \n...                        ...      ...      ...      ...      ...   \n43643  30.12.2022 19:00:00.000  130.868  131.020  130.848  130.971   \n43644  30.12.2022 20:00:00.000  130.969  131.291  130.969  131.269   \n43645  30.12.2022 21:00:00.000  131.269  131.269  131.046  131.072   \n43646  01.01.2023 22:00:00.000  130.925  130.962  130.743  130.759   \n43647  01.01.2023 23:00:00.000  130.771  130.886  130.716  130.870   \n\n             Volume  Log_Return     SMA_20     SMA_50        RSI  \\\n49     3.781590e+06   -0.000067  119.13685  119.31764  52.952953   \n50     6.187980e+06   -0.000579  119.11185  119.29280  46.207585   \n51     1.281879e+07   -0.003998  119.06910  119.25780  35.289634   \n52     1.102292e+07   -0.000633  119.02070  119.22020  34.119381   \n53     7.932700e+06    0.001358  118.98215  119.19268  31.018519   \n...             ...         ...        ...        ...        ...   \n43643  2.569386e+07    0.000787  131.97695  132.94732  24.770642   \n43644  9.933500e+06    0.002273  131.91840  132.88782  32.597823   \n43645  7.899270e+06   -0.001502  131.84970  132.82186  33.811413   \n43646  1.011000e+05   -0.002391  131.75955  132.74734  34.897638   \n43647  3.198000e+05    0.000849  131.67000  132.67574  28.328710   \n\n       Upper_Bollinger_Band  Lower_Bollinger_Band       ATR  \n49               119.500567            118.773133  0.183357  \n50               119.423628            118.800072  0.173571  \n51               119.432578            118.705622  0.209929  \n52               119.421457            118.619943  0.212429  \n53               119.368020            118.596280  0.213000  \n...                     ...                   ...       ...  \n43643            133.082505            130.871395  0.384500  \n43644            133.044541            130.792259  0.393000  \n43645            133.007516            130.691884  0.376071  \n43646            132.963689            130.555411  0.365429  \n43647            132.858149            130.481851  0.335429  \n\n[43599 rows x 13 columns]",
      "text/html": "<div>\n<style scoped>\n    .dataframe tbody tr th:only-of-type {\n        vertical-align: middle;\n    }\n\n    .dataframe tbody tr th {\n        vertical-align: top;\n    }\n\n    .dataframe thead th {\n        text-align: right;\n    }\n</style>\n<table border=\"1\" class=\"dataframe\">\n  <thead>\n    <tr style=\"text-align: right;\">\n      <th></th>\n      <th>Gmt time</th>\n      <th>Open</th>\n      <th>High</th>\n      <th>Low</th>\n      <th>Close</th>\n      <th>Volume</th>\n      <th>Log_Return</th>\n      <th>SMA_20</th>\n      <th>SMA_50</th>\n      <th>RSI</th>\n      <th>Upper_Bollinger_Band</th>\n      <th>Lower_Bollinger_Band</th>\n      <th>ATR</th>\n    </tr>\n  </thead>\n  <tbody>\n    <tr>\n      <th>49</th>\n      <td>05.01.2016 23:00:00.000</td>\n      <td>119.118</td>\n      <td>119.165</td>\n      <td>119.088</td>\n      <td>119.110</td>\n      <td>3.781590e+06</td>\n      <td>-0.000067</td>\n      <td>119.13685</td>\n      <td>119.31764</td>\n      <td>52.952953</td>\n      <td>119.500567</td>\n      <td>118.773133</td>\n      <td>0.183357</td>\n    </tr>\n    <tr>\n      <th>50</th>\n      <td>06.01.2016 00:00:00.000</td>\n      <td>119.109</td>\n      <td>119.161</td>\n      <td>118.993</td>\n      <td>119.041</td>\n      <td>6.187980e+06</td>\n      <td>-0.000579</td>\n      <td>119.11185</td>\n      <td>119.29280</td>\n      <td>46.207585</td>\n      <td>119.423628</td>\n      <td>118.800072</td>\n      <td>0.173571</td>\n    </tr>\n    <tr>\n      <th>51</th>\n      <td>06.01.2016 01:00:00.000</td>\n      <td>119.044</td>\n      <td>119.131</td>\n      <td>118.356</td>\n      <td>118.566</td>\n      <td>1.281879e+07</td>\n      <td>-0.003998</td>\n      <td>119.06910</td>\n      <td>119.25780</td>\n      <td>35.289634</td>\n      <td>119.432578</td>\n      <td>118.705622</td>\n      <td>0.209929</td>\n    </tr>\n    <tr>\n      <th>52</th>\n      <td>06.01.2016 02:00:00.000</td>\n      <td>118.565</td>\n      <td>118.666</td>\n      <td>118.407</td>\n      <td>118.491</td>\n      <td>1.102292e+07</td>\n      <td>-0.000633</td>\n      <td>119.02070</td>\n      <td>119.22020</td>\n      <td>34.119381</td>\n      <td>119.421457</td>\n      <td>118.619943</td>\n      <td>0.212429</td>\n    </tr>\n    <tr>\n      <th>53</th>\n      <td>06.01.2016 03:00:00.000</td>\n      <td>118.491</td>\n      <td>118.673</td>\n      <td>118.383</td>\n      <td>118.652</td>\n      <td>7.932700e+06</td>\n      <td>0.001358</td>\n      <td>118.98215</td>\n      <td>119.19268</td>\n      <td>31.018519</td>\n      <td>119.368020</td>\n      <td>118.596280</td>\n      <td>0.213000</td>\n    </tr>\n    <tr>\n      <th>...</th>\n      <td>...</td>\n      <td>...</td>\n      <td>...</td>\n      <td>...</td>\n      <td>...</td>\n      <td>...</td>\n      <td>...</td>\n      <td>...</td>\n      <td>...</td>\n      <td>...</td>\n      <td>...</td>\n      <td>...</td>\n      <td>...</td>\n    </tr>\n    <tr>\n      <th>43643</th>\n      <td>30.12.2022 19:00:00.000</td>\n      <td>130.868</td>\n      <td>131.020</td>\n      <td>130.848</td>\n      <td>130.971</td>\n      <td>2.569386e+07</td>\n      <td>0.000787</td>\n      <td>131.97695</td>\n      <td>132.94732</td>\n      <td>24.770642</td>\n      <td>133.082505</td>\n      <td>130.871395</td>\n      <td>0.384500</td>\n    </tr>\n    <tr>\n      <th>43644</th>\n      <td>30.12.2022 20:00:00.000</td>\n      <td>130.969</td>\n      <td>131.291</td>\n      <td>130.969</td>\n      <td>131.269</td>\n      <td>9.933500e+06</td>\n      <td>0.002273</td>\n      <td>131.91840</td>\n      <td>132.88782</td>\n      <td>32.597823</td>\n      <td>133.044541</td>\n      <td>130.792259</td>\n      <td>0.393000</td>\n    </tr>\n    <tr>\n      <th>43645</th>\n      <td>30.12.2022 21:00:00.000</td>\n      <td>131.269</td>\n      <td>131.269</td>\n      <td>131.046</td>\n      <td>131.072</td>\n      <td>7.899270e+06</td>\n      <td>-0.001502</td>\n      <td>131.84970</td>\n      <td>132.82186</td>\n      <td>33.811413</td>\n      <td>133.007516</td>\n      <td>130.691884</td>\n      <td>0.376071</td>\n    </tr>\n    <tr>\n      <th>43646</th>\n      <td>01.01.2023 22:00:00.000</td>\n      <td>130.925</td>\n      <td>130.962</td>\n      <td>130.743</td>\n      <td>130.759</td>\n      <td>1.011000e+05</td>\n      <td>-0.002391</td>\n      <td>131.75955</td>\n      <td>132.74734</td>\n      <td>34.897638</td>\n      <td>132.963689</td>\n      <td>130.555411</td>\n      <td>0.365429</td>\n    </tr>\n    <tr>\n      <th>43647</th>\n      <td>01.01.2023 23:00:00.000</td>\n      <td>130.771</td>\n      <td>130.886</td>\n      <td>130.716</td>\n      <td>130.870</td>\n      <td>3.198000e+05</td>\n      <td>0.000849</td>\n      <td>131.67000</td>\n      <td>132.67574</td>\n      <td>28.328710</td>\n      <td>132.858149</td>\n      <td>130.481851</td>\n      <td>0.335429</td>\n    </tr>\n  </tbody>\n</table>\n<p>43599 rows × 13 columns</p>\n</div>"
     },
     "execution_count": 104,
     "metadata": {},
     "output_type": "execute_result"
    }
   ],
   "source": [
    "def remove_nan_rows(df):\n",
    "    return df.dropna(inplace=True)\n",
    "\n",
    "remove_nan_rows(data)\n",
    "data"
   ],
   "metadata": {
    "collapsed": false,
    "ExecuteTime": {
     "end_time": "2023-09-25T21:07:23.687152100Z",
     "start_time": "2023-09-25T21:07:23.470545Z"
    }
   },
   "id": "cd1d7f3906539657"
  },
  {
   "cell_type": "markdown",
   "source": [
    "## Export the prepared dataset"
   ],
   "metadata": {
    "collapsed": false
   },
   "id": "20d89de36eb6325b"
  },
  {
   "cell_type": "code",
   "execution_count": 105,
   "outputs": [],
   "source": [
    "data.to_csv(PREPARED_PATH, index=False)"
   ],
   "metadata": {
    "collapsed": false,
    "ExecuteTime": {
     "end_time": "2023-09-25T21:07:24.188437800Z",
     "start_time": "2023-09-25T21:07:23.498657400Z"
    }
   },
   "id": "270146db9d404169"
  }
 ],
 "metadata": {
  "kernelspec": {
   "display_name": "Python 3",
   "language": "python",
   "name": "python3"
  },
  "language_info": {
   "codemirror_mode": {
    "name": "ipython",
    "version": 2
   },
   "file_extension": ".py",
   "mimetype": "text/x-python",
   "name": "python",
   "nbconvert_exporter": "python",
   "pygments_lexer": "ipython2",
   "version": "2.7.6"
  }
 },
 "nbformat": 4,
 "nbformat_minor": 5
}
